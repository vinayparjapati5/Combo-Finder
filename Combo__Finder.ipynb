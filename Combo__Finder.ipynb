{
  "nbformat": 4,
  "nbformat_minor": 0,
  "metadata": {
    "colab": {
      "provenance": [],
      "include_colab_link": true
    },
    "kernelspec": {
      "display_name": "Python 3",
      "language": "python",
      "name": "python3"
    },
    "language_info": {
      "codemirror_mode": {
        "name": "ipython",
        "version": 3
      },
      "file_extension": ".py",
      "mimetype": "text/x-python",
      "name": "python",
      "nbconvert_exporter": "python",
      "pygments_lexer": "ipython3",
      "version": "3.8.5"
    }
  },
  "cells": [
    {
      "cell_type": "markdown",
      "metadata": {
        "id": "view-in-github",
        "colab_type": "text"
      },
      "source": [
        "<a href=\"https://colab.research.google.com/github/vinayparjapati5/Combo-Finder/blob/main/Combo__Finder.ipynb\" target=\"_parent\"><img src=\"https://colab.research.google.com/assets/colab-badge.svg\" alt=\"Open In Colab\"/></a>"
      ]
    },
    {
      "cell_type": "markdown",
      "metadata": {
        "id": "7nQSRI4Dim1Y"
      },
      "source": [
        "  ---\n",
        "# **ComboFinder**\n",
        "---\n",
        "####**Problem Statement:**\n",
        "Find all the list of products whose sum-of-price is between 290 and 310.\n",
        "\n",
        "ProductList = {p1:10, p2:15, p3:20, p4:25, p5:30, p6:35, p7:50}\n",
        "\n",
        "---"
      ]
    },
    {
      "cell_type": "markdown",
      "metadata": {
        "id": "A30y-VtNim1h"
      },
      "source": [
        "### **1 Library inclusion**"
      ]
    },
    {
      "cell_type": "code",
      "metadata": {
        "id": "cF_mSA9Xim1j"
      },
      "source": [
        "import random as r"
      ],
      "execution_count": 13,
      "outputs": []
    },
    {
      "cell_type": "markdown",
      "metadata": {
        "id": "UjvBYy0Lim1m"
      },
      "source": [
        "### **2 Parameter Setting**\n",
        "Read the productId-price file and convert to dictionary"
      ]
    },
    {
      "cell_type": "code",
      "metadata": {
        "id": "NHB2KMhZim1o"
      },
      "source": [
        "ProductList = {'p1':10, 'p2':15, 'p3':20, 'p4':25, 'p5':30, 'p6':35, 'p7':50,\n",
        "               'p8':40, 'p9':55, 'p10':60, 'p11':65, 'p12':75, 'p13':70,\n",
        "               'p14':45}\n",
        "LB          = 290\n",
        "UB          = 310\n",
        "ResultList  = set()   # Store Result List i.e. list of sets whose sum is between 290 and 310.\n",
        "Iterations  = 1000    # Number of Iterations"
      ],
      "execution_count": 14,
      "outputs": []
    },
    {
      "cell_type": "markdown",
      "metadata": {
        "id": "BTLd3s--im1c"
      },
      "source": [
        "### **Single Run**\n",
        "\n",
        "\n"
      ]
    },
    {
      "cell_type": "code",
      "metadata": {
        "id": "veBU-f21im1x",
        "colab": {
          "base_uri": "https://localhost:8080/"
        },
        "outputId": "6ddaf572-42fb-4b21-b9b9-f0ca91c48eaf"
      },
      "source": [
        "# Select combo size (i.e. number of products in a combo)\n",
        "SetSize = r.randint(2, len(ProductList)-1)\n",
        "print(\"Number of Product: \", SetSize)\n",
        "\n",
        "\n",
        "# Select number of elements from Set\n",
        "ComboList = r.sample(list(ProductList.keys()),SetSize)\n",
        "print(\"Product List     : \", ComboList)\n",
        "\n",
        "\n",
        "# Sum the products in ColboList\n",
        "ComboSum = sum([ ProductList[i] for i in ComboList])\n",
        "print(\"Sum of Product   : \", ComboSum)\n"
      ],
      "execution_count": 15,
      "outputs": [
        {
          "output_type": "stream",
          "name": "stdout",
          "text": [
            "Number of Product:  11\n",
            "Product List     :  ['p4', 'p9', 'p14', 'p2', 'p5', 'p11', 'p10', 'p1', 'p13', 'p8', 'p3']\n",
            "Sum of Product   :  435\n"
          ]
        }
      ]
    },
    {
      "cell_type": "markdown",
      "metadata": {
        "id": "ts8ALfd7NuIh"
      },
      "source": [
        "### **3 Start Program**\n",
        "\n",
        "\n"
      ]
    },
    {
      "cell_type": "code",
      "metadata": {
        "colab": {
          "base_uri": "https://localhost:8080/"
        },
        "id": "34JF9pZPNuIj",
        "outputId": "c7d5eeb0-4fa2-4e44-f36b-7e7a362820e9"
      },
      "source": [
        "# Loop till number of Iterations\n",
        "ResultList  = set()\n",
        "\n",
        "for i in range(Iterations):\n",
        "\n",
        "    # Select combo size (i.e. number of products in a combo)\n",
        "    SetSize = r.randint(2, len(ProductList)-1)\n",
        "\n",
        "    # Select number of elements from Set\n",
        "    ComboList = r.sample(list(ProductList.keys()),SetSize)\n",
        "\n",
        "    # Sum the products in ColboList\n",
        "    ComboSum = sum([ ProductList[i] for i in ComboList])\n",
        "    \n",
        "    # Check the Sum Between LB and UB\n",
        "    if ComboSum>= LB and ComboSum<= UB:\n",
        "      ResultList.add(tuple(ComboList))\n",
        "\n",
        "print(\"Done\")"
      ],
      "execution_count": 17,
      "outputs": [
        {
          "output_type": "stream",
          "name": "stdout",
          "text": [
            "Done\n"
          ]
        }
      ]
    },
    {
      "cell_type": "markdown",
      "metadata": {
        "id": "nRWYsJNVim1z"
      },
      "source": [
        "### **4 Print the comboLists and total count**\n"
      ]
    },
    {
      "cell_type": "code",
      "metadata": {
        "colab": {
          "base_uri": "https://localhost:8080/"
        },
        "id": "41abL1k-im10",
        "scrolled": true,
        "outputId": "d1ccf74c-e087-4ea0-d0df-bce9fa8b4b56"
      },
      "source": [
        "# Print all the sets whose sum is between LB and UB\n",
        "for r in ResultList:\n",
        "\tprint (r)\n",
        "\n",
        "# Print total sets\n",
        "print (\"\\nTotal Sets: \", len(ResultList), \"\\n\")"
      ],
      "execution_count": 7,
      "outputs": [
        {
          "output_type": "stream",
          "name": "stdout",
          "text": [
            "('p10', 'p11', 'p4', 'p9', 'p14', 'p7', 'p1')\n",
            "('p6', 'p1', 'p7', 'p3', 'p11', 'p12', 'p4', 'p5')\n",
            "('p2', 'p9', 'p1', 'p5', 'p14', 'p13', 'p12')\n",
            "('p12', 'p7', 'p1', 'p11', 'p8', 'p10')\n",
            "('p13', 'p4', 'p9', 'p11', 'p10', 'p6')\n",
            "('p2', 'p6', 'p7', 'p1', 'p14', 'p12', 'p4', 'p8')\n",
            "('p3', 'p10', 'p1', 'p14', 'p8', 'p5', 'p2', 'p4', 'p11')\n",
            "('p2', 'p1', 'p10', 'p11', 'p3', 'p6', 'p13', 'p5')\n",
            "('p2', 'p13', 'p11', 'p9', 'p10', 'p14')\n",
            "('p13', 'p7', 'p11', 'p6', 'p5', 'p3', 'p8')\n",
            "('p2', 'p12', 'p1', 'p5', 'p11', 'p9', 'p14')\n",
            "('p11', 'p10', 'p4', 'p9', 'p14', 'p7')\n",
            "('p7', 'p9', 'p3', 'p8', 'p14', 'p5', 'p13')\n",
            "('p9', 'p3', 'p6', 'p13', 'p8', 'p10', 'p5')\n",
            "('p8', 'p11', 'p4', 'p3', 'p1', 'p9', 'p10', 'p6')\n",
            "('p7', 'p1', 'p3', 'p9', 'p2', 'p14', 'p13', 'p5')\n",
            "('p3', 'p14', 'p2', 'p5', 'p1', 'p10', 'p7', 'p8', 'p4')\n",
            "('p1', 'p9', 'p5', 'p14', 'p8', 'p10', 'p13')\n",
            "('p14', 'p13', 'p5', 'p3', 'p10', 'p11')\n",
            "('p14', 'p1', 'p13', 'p9', 'p12', 'p2', 'p8')\n",
            "('p7', 'p11', 'p8', 'p1', 'p10', 'p13')\n",
            "('p10', 'p13', 'p2', 'p5', 'p7', 'p3', 'p14')\n",
            "('p2', 'p3', 'p13', 'p8', 'p4', 'p1', 'p14', 'p6', 'p7')\n",
            "('p2', 'p4', 'p8', 'p9', 'p13', 'p5', 'p7', 'p3')\n",
            "('p6', 'p2', 'p14', 'p8', 'p11', 'p5', 'p1', 'p7')\n",
            "('p14', 'p4', 'p7', 'p6', 'p10', 'p1', 'p13')\n",
            "('p13', 'p14', 'p2', 'p8', 'p9', 'p12')\n",
            "('p14', 'p5', 'p10', 'p9', 'p3', 'p1', 'p6', 'p8', 'p2')\n",
            "('p12', 'p14', 'p5', 'p4', 'p13', 'p8', 'p3')\n",
            "('p9', 'p4', 'p2', 'p11', 'p8', 'p14', 'p1', 'p7')\n",
            "('p11', 'p3', 'p5', 'p8', 'p1', 'p9', 'p14', 'p4')\n",
            "('p11', 'p7', 'p6', 'p5', 'p9', 'p8', 'p1', 'p4')\n",
            "('p11', 'p5', 'p2', 'p6', 'p3', 'p10', 'p9', 'p4')\n",
            "('p8', 'p1', 'p14', 'p9', 'p7', 'p5', 'p13')\n",
            "('p5', 'p1', 'p14', 'p4', 'p3', 'p10', 'p2', 'p7', 'p8')\n",
            "('p6', 'p4', 'p9', 'p14', 'p12', 'p2', 'p7')\n",
            "('p10', 'p13', 'p3', 'p5', 'p7', 'p11', 'p1')\n",
            "('p12', 'p4', 'p14', 'p2', 'p7', 'p5', 'p9')\n",
            "('p7', 'p13', 'p4', 'p9', 'p5', 'p11')\n",
            "('p13', 'p7', 'p9', 'p12', 'p10')\n",
            "('p11', 'p8', 'p10', 'p4', 'p1', 'p2', 'p13', 'p3')\n",
            "('p8', 'p5', 'p12', 'p11', 'p6', 'p14')\n",
            "('p11', 'p8', 'p2', 'p5', 'p14', 'p6', 'p12')\n",
            "('p5', 'p11', 'p4', 'p8', 'p1', 'p9', 'p7', 'p6')\n",
            "('p3', 'p9', 'p14', 'p2', 'p13', 'p7', 'p6')\n",
            "('p9', 'p5', 'p12', 'p4', 'p13', 'p7')\n",
            "\n",
            "Total Sets:  46 \n",
            "\n"
          ]
        }
      ]
    },
    {
      "cell_type": "markdown",
      "metadata": {
        "id": "stxrIcZtk4LT"
      },
      "source": [
        "---\n",
        "### **5 Complete Program with sorting**\n",
        "---"
      ]
    },
    {
      "cell_type": "code",
      "metadata": {
        "colab": {
          "base_uri": "https://localhost:8080/"
        },
        "outputId": "6513535a-397f-4ad7-bff9-16c03b334f99",
        "id": "zzblepy0k4LU"
      },
      "source": [
        "#-------------------------------------------------------------\n",
        "# Step 1: Library inclusion                             \n",
        "#-------------------------------------------------------------\n",
        "import random as r\n",
        "\n",
        "\n",
        "#-------------------------------------------------------------\n",
        "# Step 2: Parameter Setting\n",
        "#-------------------------------------------------------------\n",
        "ProductList = {'p1':10, 'p2':15, 'p3':20, 'p4':25, 'p5':30, 'p6':35, 'p7':50,\n",
        "               'p8':40, 'p9':55, 'p10':60, 'p11':65, 'p12':75, 'p13':70,\n",
        "               'p14':45}\n",
        "LB          = 290\n",
        "UB          = 310\n",
        "ResultList  = set()   # Store Result List i.e. list of sets whose sum is between 290 and 310.\n",
        "Iterations  = 1000    # Number of Iterations\n",
        "\n",
        "\n",
        "#-------------------------------------------------------------\n",
        "# Step3: Start Program\n",
        "#-------------------------------------------------------------\n",
        "for i in range(Iterations):\n",
        "\n",
        "    # Select combo size (i.e. number of products in a combo)\n",
        "    SetSize = r.randint(2, len(ProductList)-1)\n",
        "\n",
        "    # Select number of elements from Set\n",
        "    ComboList = r.sample(list(ProductList.keys()),SetSize)\n",
        "    ComboList.sort()\n",
        "\n",
        "    # Sum the products in ColboList\n",
        "    ComboSum = sum([ ProductList[i] for i in ComboList])\n",
        "\n",
        "    # Check the Sum Between LB and UB\n",
        "    if ComboSum>= LB and ComboSum<= UB:\n",
        "      ResultList.add(tuple(ComboList))\n",
        "\n",
        "\n",
        "# Print all the sets whose sum is between LB and UB\n",
        "for r in ResultList:\n",
        "\tprint (r)\n",
        "\n",
        "# Print total sets\n",
        "print (\"\\nTotal Sets: \", len(ResultList), \"\\n\")\n"
      ],
      "execution_count": null,
      "outputs": [
        {
          "output_type": "stream",
          "name": "stdout",
          "text": [
            "('p1', 'p11', 'p12', 'p14', 'p2', 'p4', 'p5', 'p8')\n",
            "('p11', 'p13', 'p3', 'p6', 'p7', 'p9')\n",
            "('p10', 'p11', 'p13', 'p4', 'p5', 'p9')\n",
            "('p1', 'p11', 'p13', 'p3', 'p4', 'p5', 'p7', 'p8')\n",
            "('p10', 'p11', 'p13', 'p8', 'p9')\n",
            "('p10', 'p12', 'p13', 'p3', 'p5', 'p6')\n",
            "('p1', 'p11', 'p12', 'p13', 'p5', 'p9')\n",
            "('p1', 'p10', 'p11', 'p14', 'p3', 'p4', 'p6', 'p8')\n",
            "('p11', 'p12', 'p13', 'p14', 'p9')\n",
            "('p11', 'p14', 'p2', 'p3', 'p4', 'p6', 'p7', 'p8')\n",
            "('p1', 'p11', 'p12', 'p14', 'p2', 'p3', 'p5', 'p7')\n",
            "('p1', 'p13', 'p14', 'p2', 'p4', 'p6', 'p7', 'p8')\n",
            "('p11', 'p12', 'p13', 'p14', 'p7')\n",
            "('p1', 'p12', 'p13', 'p14', 'p3', 'p4', 'p5', 'p6')\n",
            "('p10', 'p11', 'p12', 'p14', 'p7')\n",
            "('p10', 'p12', 'p14', 'p2', 'p4', 'p5', 'p7')\n",
            "('p11', 'p12', 'p5', 'p6', 'p7', 'p9')\n",
            "('p1', 'p10', 'p12', 'p3', 'p6', 'p8', 'p9')\n",
            "('p10', 'p13', 'p2', 'p3', 'p5', 'p8', 'p9')\n",
            "('p13', 'p14', 'p2', 'p5', 'p6', 'p8', 'p9')\n",
            "('p1', 'p11', 'p12', 'p4', 'p6', 'p8', 'p9')\n",
            "('p11', 'p12', 'p13', 'p7', 'p8')\n",
            "('p13', 'p3', 'p5', 'p6', 'p7', 'p8', 'p9')\n",
            "('p12', 'p13', 'p14', 'p2', 'p4', 'p5', 'p8')\n",
            "('p10', 'p11', 'p12', 'p14', 'p2', 'p7')\n",
            "('p1', 'p10', 'p13', 'p14', 'p4', 'p5', 'p9')\n",
            "('p10', 'p13', 'p14', 'p3', 'p5', 'p6', 'p8')\n",
            "('p11', 'p12', 'p14', 'p2', 'p4', 'p5', 'p6')\n",
            "('p10', 'p11', 'p14', 'p2', 'p5', 'p6', 'p8')\n",
            "('p1', 'p10', 'p12', 'p13', 'p2', 'p4', 'p7')\n",
            "('p10', 'p12', 'p2', 'p4', 'p5', 'p8', 'p9')\n",
            "('p1', 'p12', 'p13', 'p4', 'p6', 'p8', 'p9')\n",
            "('p1', 'p10', 'p14', 'p2', 'p3', 'p4', 'p5', 'p8', 'p9')\n",
            "('p1', 'p12', 'p3', 'p4', 'p5', 'p7', 'p8', 'p9')\n",
            "('p1', 'p12', 'p13', 'p3', 'p5', 'p6', 'p7')\n",
            "('p10', 'p11', 'p12', 'p14', 'p2', 'p6')\n",
            "('p10', 'p14', 'p2', 'p3', 'p5', 'p6', 'p7', 'p8')\n",
            "('p1', 'p11', 'p12', 'p2', 'p3', 'p4', 'p6', 'p9')\n",
            "('p1', 'p12', 'p14', 'p2', 'p3', 'p4', 'p5', 'p6', 'p7')\n",
            "('p11', 'p13', 'p14', 'p3', 'p4', 'p6', 'p8')\n",
            "('p12', 'p13', 'p2', 'p3', 'p6', 'p7', 'p8')\n",
            "('p1', 'p10', 'p11', 'p3', 'p4', 'p6', 'p7', 'p8')\n",
            "('p1', 'p11', 'p12', 'p13', 'p2', 'p5', 'p6')\n",
            "('p12', 'p13', 'p2', 'p3', 'p4', 'p5', 'p6', 'p8')\n",
            "('p12', 'p13', 'p3', 'p6', 'p7', 'p8')\n",
            "('p1', 'p10', 'p11', 'p12', 'p14', 'p3', 'p4')\n",
            "\n",
            "Total Sets:  46 \n",
            "\n"
          ]
        }
      ]
    }
  ]
}